{
 "cells": [
  {
   "cell_type": "markdown",
   "metadata": {},
   "source": [
    "## I. FastAPI"
   ]
  },
  {
   "cell_type": "markdown",
   "metadata": {},
   "source": [
    "### 1.1. Introduction"
   ]
  },
  {
   "cell_type": "markdown",
   "metadata": {},
   "source": [
    "### 1.2. Operations"
   ]
  },
  {
   "cell_type": "code",
   "execution_count": 2,
   "metadata": {},
   "outputs": [
    {
     "data": {
      "application/vnd.microsoft.datawrangler.viewer.v0+json": {
       "columns": [
        {
         "name": "index",
         "rawType": "object",
         "type": "string"
        },
        {
         "name": "GET",
         "rawType": "float64",
         "type": "float"
        },
        {
         "name": "POST",
         "rawType": "float64",
         "type": "float"
        },
        {
         "name": "PUT",
         "rawType": "float64",
         "type": "float"
        },
        {
         "name": "DELETE",
         "rawType": "float64",
         "type": "float"
        }
       ],
       "conversionMethod": "pd.DataFrame",
       "ref": "b75edf2c-2f3e-4dda-860e-b6351a6326f3",
       "rows": [
        [
         "Traditional use",
         "0.1",
         "0.2",
         "0.3",
         "0.4"
        ],
        [
         "Parameter",
         "0.2",
         "0.3",
         "0.4",
         "0.5"
        ],
        [
         "ascbashkc",
         "0.3",
         "0.4",
         "0.5",
         "0.6"
        ]
       ],
       "shape": {
        "columns": 4,
        "rows": 3
       }
      },
      "text/html": [
       "<div>\n",
       "<style scoped>\n",
       "    .dataframe tbody tr th:only-of-type {\n",
       "        vertical-align: middle;\n",
       "    }\n",
       "\n",
       "    .dataframe tbody tr th {\n",
       "        vertical-align: top;\n",
       "    }\n",
       "\n",
       "    .dataframe thead th {\n",
       "        text-align: right;\n",
       "    }\n",
       "</style>\n",
       "<table border=\"1\" class=\"dataframe\">\n",
       "  <thead>\n",
       "    <tr style=\"text-align: right;\">\n",
       "      <th></th>\n",
       "      <th>GET</th>\n",
       "      <th>POST</th>\n",
       "      <th>PUT</th>\n",
       "      <th>DELETE</th>\n",
       "    </tr>\n",
       "  </thead>\n",
       "  <tbody>\n",
       "    <tr>\n",
       "      <th>Traditional use</th>\n",
       "      <td>0.1</td>\n",
       "      <td>0.2</td>\n",
       "      <td>0.3</td>\n",
       "      <td>0.4</td>\n",
       "    </tr>\n",
       "    <tr>\n",
       "      <th>Parameter</th>\n",
       "      <td>0.2</td>\n",
       "      <td>0.3</td>\n",
       "      <td>0.4</td>\n",
       "      <td>0.5</td>\n",
       "    </tr>\n",
       "    <tr>\n",
       "      <th>ascbashkc</th>\n",
       "      <td>0.3</td>\n",
       "      <td>0.4</td>\n",
       "      <td>0.5</td>\n",
       "      <td>0.6</td>\n",
       "    </tr>\n",
       "  </tbody>\n",
       "</table>\n",
       "</div>"
      ],
      "text/plain": [
       "                 GET  POST  PUT  DELETE\n",
       "Traditional use  0.1   0.2  0.3     0.4\n",
       "Parameter        0.2   0.3  0.4     0.5\n",
       "ascbashkc        0.3   0.4  0.5     0.6"
      ]
     },
     "execution_count": 2,
     "metadata": {},
     "output_type": "execute_result"
    }
   ],
   "source": [
    "import pandas as pd\n",
    "pd.DataFrame(\n",
    "    {\n",
    "        \"GET\": [0.1, 0.2, 0.3],\n",
    "        \"POST\": [0.2, 0.3, 0.4],\n",
    "        \"PUT\": [0.3, 0.4, 0.5],\n",
    "        \"DELETE\": [0.4, 0.5, 0.6]\n",
    "    },\n",
    "    index=[\"Traditional use\", \"Parameter\",\"ascbashkc\"]\n",
    ")"
   ]
  },
  {
   "cell_type": "code",
   "execution_count": null,
   "metadata": {},
   "outputs": [],
   "source": [
    "from fastapi import FastAPI\n",
    "from pydantic_basemodel import *\n",
    "\n",
    "# Create an instance of FastAPI / Instantiate app as an object of the FastAPI class\n",
    "app = FastAPI()\n",
    "\n",
    "# Handle get requests to the root which is either the host alone or the host followed by a single slash\n",
    "@app.get(\"/\")\n",
    "# Add a query parameter name with a default value \"Alan\".\n",
    "async def root(name: str = \"Alan\"):\n",
    "    # When it return, FastAPI will convert the dictionary to JSON and return it to the client which will be shown in the browser\n",
    "    return {\"message\": f\"Hello, {name}\"}\n",
    "\n",
    "# Handle post requests to the /reviews endpoint\n",
    "@app.post(\"/reviews\", response_model=DbReview)\n",
    "def create_review(review: MovieReview):\n",
    "    # Typically we would define a file call crud.py with custom functions to create, read, update, and delete objects in the database. \n",
    "    db_review = crud.create_review(review)\n",
    "    return db_review\n",
    "\n",
    "@app.put(\"/reviews\", response_model=DbReview)\n",
    "def update_review(review: MovieReview):\n",
    "    # update the movie review in the database\n",
    "    db_review = crud.update_review(review)\n",
    "    # return the updated review\n",
    "    return db_review\n",
    "\n",
    "@app.delete(\"/reviews\", response_model=DbReview)\n",
    "def delete_review(review: MovieReview):\n",
    "    # delete the movie review in the database\n",
    "    db_review = crud.delete_review(review)\n",
    "    # return the nothing since the data is gone\n",
    "    return {}\n"
   ]
  },
  {
   "cell_type": "markdown",
   "metadata": {},
   "source": [
    "### 1.3. Handling Errors"
   ]
  },
  {
   "cell_type": "code",
   "execution_count": null,
   "metadata": {},
   "outputs": [],
   "source": [
    "from fastapi import FastAPI, HTTPException\n",
    "from pydantic import BaseModel\n",
    "\n",
    "# Define model Item\n",
    "class Item(BaseModel):\n",
    "    name: str\n",
    "\n",
    "# Define items at application startup\n",
    "items = {\"apples\", \"oranges\"}\n",
    "\n",
    "app = FastAPI()\n",
    "\n",
    "\n",
    "@app.delete(\"/items\")\n",
    "def delete_item(item: Item):\n",
    "    name = item.name\n",
    "    if name in items:\n",
    "        items.remove(name)\n",
    "    else:\n",
    "        # Raise HTTPException with status code for \"not found\"\n",
    "        raise HTTPException(status_code=404, detail=\"Item not found.\")\n",
    "    return {}"
   ]
  },
  {
   "cell_type": "markdown",
   "metadata": {},
   "source": [
    "fastapi dev main.py\n",
    "\n",
    "curl -X DELETE \\\n",
    "  -H 'Content-Type: application/json' \\\n",
    "  -d '{\"name\": \"bananas\"}' \\\n",
    "  http://localhost:8000/items"
   ]
  },
  {
   "cell_type": "markdown",
   "metadata": {},
   "source": [
    "### 1.4. Using async for concurrent work"
   ]
  },
  {
   "cell_type": "markdown",
   "metadata": {},
   "source": [
    "#### 1.4.1. When to use async"
   ]
  },
  {
   "cell_type": "markdown",
   "metadata": {},
   "source": [
    "- Use `async`\n",
    "    + If our application does not have to communicate with anything else and wait for it to respond\n",
    "    + e.g. Audio | Image Processing, Computer Vision, ML, DL, etc.\n",
    "    + When all the functions within our endpoint can be called with `await`\n",
    "- Don't use `async`\n",
    "    + If our application has to communicate with\n",
    "        - File system \n",
    "        - Database\n",
    "        - Another server\n",
    "    + If we are not sure"
   ]
  },
  {
   "cell_type": "markdown",
   "metadata": {},
   "source": [
    "#### 1.4.2. Asynchronous DELETE operation"
   ]
  },
  {
   "cell_type": "markdown",
   "metadata": {},
   "source": [
    "You've been asked to create an API endpoint that deletes items managed by your API. To accomplish this, create an endpoint `/items` that serves HTTP DELETE operations. Make the endpoint asynchronous, so that your application can continue to serve requests while maintaining any long-running deletion tasks.\n",
    "\n",
    "We can't run the FastAPI server directly with \"Run this file\" - see the instructions for how to run the server and test your code from the terminal.\n",
    "\n",
    "**Instructions**\n",
    "- Make the delete operation asynchronous.\n",
    "- Validate the existence of `item.name` in list `items`.\n",
    "- Return the appropriate status code for \"not found.\"\n",
    "- Run the live server from the terminal: `fastapi dev main.py`.\n",
    "- Open a new terminal and test your code with the following command:\n",
    "```\n",
    "curl -X DELETE \\\n",
    "  -H 'Content-Type: application/json' \\\n",
    "  -d '{\"name\": \"rock\"}' \\\n",
    "  http://localhost:8000/items\n",
    "\n",
    "curl -X DELETE \\\n",
    "  -H 'Content-Type: application/json' \\\n",
    "  -d '{\"name\": \"roll\"}' \\\n",
    "  http://localhost:8000/items\n",
    "```"
   ]
  },
  {
   "cell_type": "code",
   "execution_count": null,
   "metadata": {},
   "outputs": [],
   "source": [
    "from fastapi import FastAPI, HTTPException\n",
    "from pydantic import BaseModel\n",
    "\n",
    "# Define model Item\n",
    "class Item(BaseModel):\n",
    "    name: str\n",
    "\n",
    "app = FastAPI()\n",
    "\n",
    "items = {\"rock\", \"paper\", \"scissors\"}\n",
    "\n",
    "\n",
    "@app.delete(\"/items\")\n",
    "# Make asynchronous\n",
    "async def root(item: Item):\n",
    "    name = item.name\n",
    "    # Check if name is in items\n",
    "    if name not in items:\n",
    "        # Return the status code for not found\n",
    "        raise HTTPException(status_code=404, detail=\"Item not found.\")\n",
    "    items.remove(name)\n",
    "    return {\"message\": \"Item deleted\"}"
   ]
  },
  {
   "cell_type": "markdown",
   "metadata": {},
   "source": [
    "You've created and tested your first asynchronous DELETE endpoint. This is the traditional operation for endpoints that delete data managed by the API, and the final operation you need to build an application with a CRUD (Create, Read, Update & Delete) API."
   ]
  },
  {
   "cell_type": "markdown",
   "metadata": {},
   "source": [
    "### 1.5. FastAPI automated testing\n",
    "how to test our endpoints automatically"
   ]
  },
  {
   "cell_type": "markdown",
   "metadata": {},
   "source": [
    "#### 1.5.1. Automated Tests"
   ]
  },
  {
   "cell_type": "markdown",
   "metadata": {},
   "source": [
    "- **Unit Tests**\n",
    "    + Focus: Isolated code\n",
    "    + Purpose: Validate code function\n",
    "    + Scope: Function or method\n",
    "    + Environment: Isolated Python env with necessary dependencies \n",
    "    + Use `pytest`\n",
    "```\n",
    "def test_main():\n",
    "    response = main()\n",
    "    assert response == {\"msg\":\"Hello\"}\n",
    "```\n",
    "\n",
    "- **System Tests**\n",
    "    + Focus: Isolated system operations\n",
    "    + Purpose: Validate system function \n",
    "    + Scope: Endpoint\n",
    "    + Environment: Python env with access to the running application \n",
    "    + Use `pytest` with `TestClient`\n",
    "```\n",
    "def test_read_main():\n",
    "    response = client.get(\"/\")\n",
    "    assert response.status_code == 200\n",
    "    assert response.json() == {\"msg\":\"Hello\"}\n",
    "```"
   ]
  },
  {
   "cell_type": "markdown",
   "metadata": {},
   "source": [
    "#### 1.5.2. System test"
   ]
  },
  {
   "cell_type": "markdown",
   "metadata": {},
   "source": [
    "You've built your FastAPI application and added unit tests to verify code functionality. Writing a system test for an API endpoint will ensure that the endpoint works on the running application.\n",
    "\n",
    "We can't run the FastAPI server directly with \"Run this file\" - see the instructions for how to run the server and test your code from the terminal."
   ]
  },
  {
   "cell_type": "markdown",
   "metadata": {},
   "source": [
    "##### Instructions"
   ]
  },
  {
   "cell_type": "markdown",
   "metadata": {},
   "source": [
    "- Review the GET endpoint defined in `main.py`.\n",
    "- Complete the following system test in `system_test.py`\n",
    "- In the terminal, run `pytest`."
   ]
  },
  {
   "cell_type": "markdown",
   "metadata": {},
   "source": [
    "##### main.py"
   ]
  },
  {
   "cell_type": "code",
   "execution_count": null,
   "metadata": {},
   "outputs": [],
   "source": [
    "from fastapi import FastAPI, HTTPException\n",
    "from pydantic import BaseModel\n",
    "from typing import Optional\n",
    "\n",
    "# define model Item\n",
    "class Item(BaseModel):\n",
    "    name: str\n",
    "    quantity: Optional[int] = 0\n",
    "\n",
    "app = FastAPI()\n",
    "\n",
    "items = {\"scissors\": Item(name=\"scissors\", quantity=100)}\n",
    "\n",
    "\n",
    "@app.get(\"/items\")\n",
    "def read(name: str):\n",
    "    if name not in items:\n",
    "        raise HTTPException(status_code=404, detail=\"Item not found\")\n",
    "    return items[name]"
   ]
  },
  {
   "cell_type": "markdown",
   "metadata": {},
   "source": [
    "##### system_test.py"
   ]
  },
  {
   "cell_type": "code",
   "execution_count": null,
   "metadata": {},
   "outputs": [],
   "source": [
    "from fastapi import FastAPI, HTTPException\n",
    "from pydantic import BaseModel\n",
    "from typing import Optional\n",
    "\n",
    "# define model Item\n",
    "class Item(BaseModel):\n",
    "    name: str\n",
    "    quantity: Optional[int] = 0\n",
    "\n",
    "app = FastAPI()\n",
    "\n",
    "items = {\"scissors\": Item(name=\"scissors\", quantity=100)}\n",
    "\n",
    "\n",
    "@app.get(\"/items\")\n",
    "def read(name: str):\n",
    "    if name not in items:\n",
    "        raise HTTPException(status_code=404, detail=\"Item not found\")\n",
    "    return items[name]"
   ]
  },
  {
   "cell_type": "markdown",
   "metadata": {},
   "source": [
    "### 1.6. Building a JSON CRUD APIs"
   ]
  },
  {
   "cell_type": "markdown",
   "metadata": {},
   "source": [
    "![](image/CRUD.jpg)"
   ]
  },
  {
   "cell_type": "markdown",
   "metadata": {},
   "source": [
    "#### 1.6.1. JSON CRUD API Motivation"
   ]
  },
  {
   "cell_type": "markdown",
   "metadata": {},
   "source": [
    "##### Fundamentals"
   ]
  },
  {
   "cell_type": "markdown",
   "metadata": {},
   "source": [
    "- Manage the entire object lifecycle\n",
    "- Understand best practices for HTTP API operations\n",
    "- Design our own data management APIs"
   ]
  },
  {
   "cell_type": "markdown",
   "metadata": {},
   "source": [
    "##### Opportunities"
   ]
  },
  {
   "cell_type": "markdown",
   "metadata": {},
   "source": [
    "- Inject business logic for more complex data operations\n",
    "- Build high throughput data\n",
    "- Build ML inference pipelines"
   ]
  },
  {
   "cell_type": "markdown",
   "metadata": {},
   "source": [
    "#### 1.6.2. Building a CRUD Module"
   ]
  },
  {
   "cell_type": "markdown",
   "metadata": {},
   "source": [
    "##### Assume we have defined 2 pydantic models for a movie review"
   ]
  },
  {
   "cell_type": "code",
   "execution_count": null,
   "metadata": {},
   "outputs": [],
   "source": [
    "from pydantic import BaseModel\n",
    "\n",
    "class Review(BaseModel):\n",
    "    movie: str\n",
    "    num_stars: int\n",
    "    text: str\n",
    "\n",
    "class DbReview(Review):\n",
    "    movie: str\n",
    "    num_stars: int\n",
    "    text: str\n",
    "    # Reference database ID of Reviews\n",
    "    review_id: int"
   ]
  },
  {
   "cell_type": "markdown",
   "metadata": {},
   "source": [
    "##### CRUD Module: crud.py"
   ]
  },
  {
   "cell_type": "code",
   "execution_count": null,
   "metadata": {},
   "outputs": [],
   "source": [
    "def create_review(review: Review):\n",
    "    # Create a review in the database\n",
    "    # Return the review with the database ID\n",
    "    return DbReview(**review.dict(), review_id=1)\n",
    "\n",
    "def read_review(review_id: int):\n",
    "    # Read a review from the database\n",
    "    # Return the review with the database ID\n",
    "    return DbReview(movie=\"The Matrix\", num_stars=5, text=\"Awesome movie!\", review_id=review_id)\n",
    "\n",
    "def update_review(review: DbReview):\n",
    "    # Update a review in the database\n",
    "    # Return the review with the database ID\n",
    "    return review\n",
    "\n",
    "def delete_review(review_id: int):\n",
    "    # Delete a review from the database\n",
    "    # Return the review with the database ID\n",
    "    return DbReview(movie=\"The Matrix\", num_stars=5, text=\"Awesome movie!\", review_id=review_id)"
   ]
  },
  {
   "cell_type": "markdown",
   "metadata": {},
   "source": [
    "#### Build a completed JSON CRUD APIs"
   ]
  },
  {
   "cell_type": "code",
   "execution_count": null,
   "metadata": {},
   "outputs": [],
   "source": [
    "# main.py\n",
    "\n",
    "from fastapi import FastAPI, HTTPException\n",
    "from pydantic import BaseModel\n",
    "from typing import Optional\n",
    "\n",
    "# define model Item\n",
    "class Item(BaseModel):\n",
    "    name: str\n",
    "    quantity: Optional[int] = 0\n",
    "\n",
    "app = FastAPI()\n",
    "\n",
    "items = {}\n",
    "\n",
    "\n",
    "@app.post(\"/items\")\n",
    "def create(item: Item):\n",
    "    name = item.name\n",
    "    if name in items:\n",
    "        raise HTTPException(status_code=409, detail=\"Item exists\")\n",
    "    items[name] = item\n",
    "    return {\"message\": f\"Added {name} to items.\"}\n",
    "  \n",
    "@app.get(\"/items\")\n",
    "def read(name: str):\n",
    "    if name not in items:\n",
    "        raise HTTPException(status_code=404, detail=\"Item not found\")\n",
    "    return items[name]  \n",
    "  \n",
    "@app.put(\"/items\")\n",
    "def update(item: Item):\n",
    "    name = item.name\n",
    "    if name not in items:\n",
    "        raise HTTPException(status_code=404, detail=\"Item not found\")\n",
    "    items[name] = item\n",
    "    return {\"message\": f\"Updated {name}.\"}\n",
    "  \n",
    "@app.delete(\"/items\")\n",
    "def delete(item: Item):\n",
    "    name = item.name\n",
    "    if name not in items:\n",
    "        raise HTTPException(status_code=404, detail=\"Item not found\")\n",
    "    del items[name]\n",
    "    return {\"message\": f\"Deleted {name}.\"}"
   ]
  },
  {
   "cell_type": "markdown",
   "metadata": {},
   "source": [
    "#### Test"
   ]
  },
  {
   "cell_type": "markdown",
   "metadata": {},
   "source": [
    "- Run the live server from the terminal: `fastapi dev main.py`\n",
    "- Open a new terminal and test your code with the following five commands:\n",
    "```\n",
    "curl -X POST \\\n",
    "  -H 'Content-Type: application/json' \\\n",
    "  -d '{\"name\": \"rock\"}' \\\n",
    "  http://localhost:8000/items\n",
    "\n",
    "curl http://localhost:8000/items?name=rock\n",
    "\n",
    "curl -X PUT \\\n",
    "  -H 'Content-Type: application/json' \\\n",
    "  -d '{\"name\": \"rock\", \"quantity\": 100}' \\\n",
    "  http://localhost:8000/items\n",
    "\n",
    "curl -X DELETE \\\n",
    "  -H 'Content-Type: application/json' \\\n",
    "  -d '{\"name\": \"rock\"}' \\\n",
    "  http://localhost:8000/items\n",
    "\n",
    "curl http://localhost:8000/items?name=rock\n",
    "```"
   ]
  },
  {
   "cell_type": "markdown",
   "metadata": {},
   "source": [
    "## II. Django"
   ]
  },
  {
   "cell_type": "code",
   "execution_count": null,
   "metadata": {},
   "outputs": [],
   "source": []
  }
 ],
 "metadata": {
  "kernelspec": {
   "display_name": "python311",
   "language": "python",
   "name": "python3"
  },
  "language_info": {
   "codemirror_mode": {
    "name": "ipython",
    "version": 3
   },
   "file_extension": ".py",
   "mimetype": "text/x-python",
   "name": "python",
   "nbconvert_exporter": "python",
   "pygments_lexer": "ipython3",
   "version": "3.11.9"
  }
 },
 "nbformat": 4,
 "nbformat_minor": 2
}
